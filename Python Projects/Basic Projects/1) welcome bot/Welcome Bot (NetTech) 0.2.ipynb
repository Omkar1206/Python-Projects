{
 "cells": [
  {
   "cell_type": "code",
   "execution_count": 2,
   "id": "65b62a29",
   "metadata": {},
   "outputs": [
    {
     "name": "stdout",
     "output_type": "stream",
     "text": [
      "Welcome to NetTech!\n",
      "Please enter your name here:sac\n",
      "Hello Sac\n",
      "Please enter your phone number here:cas\n",
      "Phone Numer: cas\n",
      "Please enter your email id here:sac\n",
      "Email Id: sac\n",
      "Please enter your preferred course:sca\n",
      "You chose: Sca\n",
      "Please enter your preferred location:dubai\n",
      "Sorry We are not available at Dubai\n",
      "Thank you for visiting NetTech!\n"
     ]
    }
   ],
   "source": [
    "#Welcome User\n",
    "print('Welcome to NetTech!')\n",
    "#Ask user its name\n",
    "user_name=input('Please enter your name here:')\n",
    "#Greet User\n",
    "print('Hello',user_name.title())\n",
    "#Ask user its phone number\n",
    "user_phone_number=input('Please enter your phone number here:')\n",
    "print('Phone Numer:',user_phone_number)\n",
    "#Ask user its email id\n",
    "user_email_id=input('Please enter your email id here:')\n",
    "print('Email Id:',user_email_id)\n",
    "#Ask user preferred course\n",
    "user_course=input('Please enter your preferred course:')\n",
    "print('You chose:',user_course.title())\n",
    "#Ask user preferred location\n",
    "user_location=input('Please enter your preferred location:')\n",
    "#location only in thane,dadar,kalyan,nerul,andheri\n",
    "valid_location=['thane','dadar','kalyan','nerul','andheri']\n",
    "if user_location.lower() in valid_location:\n",
    "    print('Your location:',user_location.title())\n",
    "else:\n",
    "    print('Sorry We are not available at',user_location.title())\n",
    "#thank user\n",
    "print('Thank you for visiting NetTech!')"
   ]
  },
  {
   "cell_type": "code",
   "execution_count": null,
   "id": "d82b3b05",
   "metadata": {},
   "outputs": [],
   "source": []
  }
 ],
 "metadata": {
  "kernelspec": {
   "display_name": "Python 3 (ipykernel)",
   "language": "python",
   "name": "python3"
  },
  "language_info": {
   "codemirror_mode": {
    "name": "ipython",
    "version": 3
   },
   "file_extension": ".py",
   "mimetype": "text/x-python",
   "name": "python",
   "nbconvert_exporter": "python",
   "pygments_lexer": "ipython3",
   "version": "3.8.11"
  }
 },
 "nbformat": 4,
 "nbformat_minor": 5
}
