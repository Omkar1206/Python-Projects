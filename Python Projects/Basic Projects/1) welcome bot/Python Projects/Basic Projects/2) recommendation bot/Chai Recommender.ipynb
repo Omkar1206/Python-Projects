{
 "cells": [
  {
   "cell_type": "code",
   "execution_count": 2,
   "id": "5f2479c6",
   "metadata": {},
   "outputs": [
    {
     "name": "stdout",
     "output_type": "stream",
     "text": [
      "Welcome to Mumbai | The City of Chai!\n",
      "Enter your name here:om\\\n",
      "Hello! Hope you had a happy jounery om\\ !\n",
      "Glad the you are a fan of Chai | I will suggest you places according to your budget!\n",
      "Enter your budget here:321\n",
      "You can visit Starbucks\n",
      "******************************\n"
     ]
    }
   ],
   "source": [
    "\n",
    "#CHAI FINDER\n",
    "#welcome to mumbai\n",
    "print('Welcome to Mumbai | The City of Chai!')\n",
    "#user name?\n",
    "user_name=input('Enter your name here:')\n",
    "#greet user name\n",
    "print('Hello! Hope you had a happy jounery',user_name,'!')\n",
    "#which places to explore\n",
    "print('Glad the you are a fan of Chai | I will suggest you places according to your budget!')\n",
    "#budget?\n",
    "budget=int(input('Enter your budget here:'))\n",
    "#>5000 taj hotel\n",
    "if budget>=5000:\n",
    "    print('You can visit Taj Hotel')\n",
    "#2500-5000 ITC\n",
    "elif budget>=2500 and budget<5000:\n",
    "    print('You can visit ITC Maratha')\n",
    "#1000-2500 Ramada\n",
    "elif budget>=1000 and budget<2500:\n",
    "    print('You can visit Ramada')\n",
    "#500-1000 Zama\n",
    "elif budget>=500 and budget<1000:\n",
    "    print('You can visit Zama')\n",
    "#100-500 Starbucks\n",
    "elif budget>=100 and budget<500:\n",
    "    print('You can visit Starbucks')\n",
    "#10-50 Shree Krishna\n",
    "elif budget>=10 and budget<50:\n",
    "    print('You can visit Shree Krishna Chai House')\n",
    "#0-10 tapri\n",
    "elif budget>0 and budget<10:\n",
    "    print(\"You can visit Mumbai's World Famous Tapri | Better than every other chai!\")\n",
    "else:\n",
    "#>0 tu apne country return jaa\n",
    "    print('GO BACK SIMON!')\n",
    "print('*'*30)\n"
   ]
  }
 ],
 "metadata": {
  "kernelspec": {
   "display_name": "Python 3 (ipykernel)",
   "language": "python",
   "name": "python3"
  },
  "language_info": {
   "codemirror_mode": {
    "name": "ipython",
    "version": 3
   },
   "file_extension": ".py",
   "mimetype": "text/x-python",
   "name": "python",
   "nbconvert_exporter": "python",
   "pygments_lexer": "ipython3",
   "version": "3.8.11"
  }
 },
 "nbformat": 4,
 "nbformat_minor": 5
}
