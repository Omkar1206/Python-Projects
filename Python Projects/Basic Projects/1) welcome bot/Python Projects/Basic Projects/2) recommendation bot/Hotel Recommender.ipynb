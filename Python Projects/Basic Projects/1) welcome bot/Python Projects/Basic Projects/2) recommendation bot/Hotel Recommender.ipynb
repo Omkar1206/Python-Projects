{
 "cells": [
  {
   "cell_type": "code",
   "execution_count": 1,
   "id": "7801ffb9",
   "metadata": {},
   "outputs": [
    {
     "name": "stdout",
     "output_type": "stream",
     "text": [
      "Welcome to Mumbai | The City of Dreams!\n",
      "Enter your name: omkar\n",
      "Hello, omkar !\n",
      "Enter your budget (in INR): 21912\n",
      "Here are some hotel recommendations based on your budget:\n",
      "You can stay at Grand Luxe Hotel.\n",
      "******************************\n"
     ]
    }
   ],
   "source": [
    "# HOTEL RECOMMENDER\n",
    "# Welcome to Mumbai\n",
    "print('Welcome to Mumbai | The City of Dreams!')\n",
    "\n",
    "# Ask for the user's name\n",
    "user_name = input('Enter your name: ')\n",
    "\n",
    "# Greet the user\n",
    "print('Hello,', user_name, '!')\n",
    "\n",
    "# Ask for the user's budget\n",
    "budget = int(input('Enter your budget (in INR): '))\n",
    "\n",
    "# Recommend hotels based on budget\n",
    "print('Here are some hotel recommendations based on your budget:')\n",
    "\n",
    "# > 5000: Grand Luxe Hotel\n",
    "if budget >= 5000:\n",
    "    print('You can stay at Grand Luxe Hotel.')\n",
    "\n",
    "# 2500-5000: Royal Oasis\n",
    "elif budget >= 2500:\n",
    "    print('You can stay at Royal Oasis.')\n",
    "\n",
    "# 1000-2500: Majestic View Inn\n",
    "elif budget >= 1000:\n",
    "    print('You can stay at Majestic View Inn.')\n",
    "\n",
    "# 500-1000: Sunshine Suites\n",
    "elif budget >= 500:\n",
    "    print('You can stay at Sunshine Suites.')\n",
    "\n",
    "# 100-500: City Lights Lodge\n",
    "elif budget >= 100:\n",
    "    print('You can stay at City Lights Lodge.')\n",
    "\n",
    "# 10-100: Cosy Corner Guesthouse\n",
    "elif budget >= 10:\n",
    "    print('You can stay at Cosy Corner Guesthouse.')\n",
    "\n",
    "# Below 10: Mumbai's World Famous Tapri\n",
    "else:\n",
    "    print(\"You can visit Mumbai's World Famous Tapri | Better than every other chai!\")\n",
    "\n",
    "print('*' * 30)\n"
   ]
  },
  {
   "cell_type": "code",
   "execution_count": null,
   "id": "62bb973e",
   "metadata": {},
   "outputs": [],
   "source": []
  }
 ],
 "metadata": {
  "kernelspec": {
   "display_name": "Python 3 (ipykernel)",
   "language": "python",
   "name": "python3"
  },
  "language_info": {
   "codemirror_mode": {
    "name": "ipython",
    "version": 3
   },
   "file_extension": ".py",
   "mimetype": "text/x-python",
   "name": "python",
   "nbconvert_exporter": "python",
   "pygments_lexer": "ipython3",
   "version": "3.8.11"
  }
 },
 "nbformat": 4,
 "nbformat_minor": 5
}
