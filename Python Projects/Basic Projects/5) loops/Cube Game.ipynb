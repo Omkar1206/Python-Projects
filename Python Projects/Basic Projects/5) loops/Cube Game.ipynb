{
 "cells": [
  {
   "cell_type": "code",
   "execution_count": 3,
   "id": "f424b8d4",
   "metadata": {},
   "outputs": [
    {
     "name": "stdout",
     "output_type": "stream",
     "text": [
      "Welcome to the world of Multiplication\n",
      "Please enter a number here:10\n",
      "Cube of 1 = 1\n",
      "Cube of 2 = 8\n",
      "Cube of 3 = 27\n",
      "Cube of 4 = 64\n",
      "Cube of 5 = 125\n",
      "Cube of 6 = 216\n",
      "Cube of 7 = 343\n",
      "Cube of 8 = 512\n",
      "Cube of 9 = 729\n",
      "Cube of 10 = 1000\n"
     ]
    }
   ],
   "source": [
    "#Cube Game\n",
    "#Welcome User\n",
    "print('Welcome to the world of Cube')\n",
    "#Ask a number as input from user\n",
    "user_input=int(input('Please enter a number here:'))\n",
    "#User for loop to print the cube\n",
    "for i in range(1,user_input+1):\n",
    "    print('Cube of',i,'=',i**3)"
   ]
  },
  {
   "cell_type": "code",
   "execution_count": null,
   "id": "7b6f55f3",
   "metadata": {},
   "outputs": [],
   "source": []
  }
 ],
 "metadata": {
  "kernelspec": {
   "display_name": "Python 3 (ipykernel)",
   "language": "python",
   "name": "python3"
  },
  "language_info": {
   "codemirror_mode": {
    "name": "ipython",
    "version": 3
   },
   "file_extension": ".py",
   "mimetype": "text/x-python",
   "name": "python",
   "nbconvert_exporter": "python",
   "pygments_lexer": "ipython3",
   "version": "3.8.11"
  }
 },
 "nbformat": 4,
 "nbformat_minor": 5
}
