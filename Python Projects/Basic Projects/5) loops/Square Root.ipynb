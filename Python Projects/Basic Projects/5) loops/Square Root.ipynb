{
 "cells": [
  {
   "cell_type": "code",
   "execution_count": 1,
   "id": "f424b8d4",
   "metadata": {},
   "outputs": [
    {
     "name": "stdout",
     "output_type": "stream",
     "text": [
      "Welcome to the world of Square Roots\n",
      "Please enter a number here:10\n",
      "Square root of 1 = 1.0\n",
      "Square root of 2 = 1.4142135623730951\n",
      "Square root of 3 = 1.7320508075688772\n",
      "Square root of 4 = 2.0\n",
      "Square root of 5 = 2.23606797749979\n",
      "Square root of 6 = 2.449489742783178\n",
      "Square root of 7 = 2.6457513110645907\n",
      "Square root of 8 = 2.8284271247461903\n",
      "Square root of 9 = 3.0\n",
      "Square root of 10 = 3.1622776601683795\n"
     ]
    }
   ],
   "source": [
    "#Square Root Game\n",
    "#Welcome User\n",
    "print('Welcome to the world of Square Roots')\n",
    "#Ask a number as input from user\n",
    "user_input=int(input('Please enter a number here:'))\n",
    "#User for loop to print the square roots\n",
    "for i in range(1,11):\n",
    "    print('Square root of',i,'=',i**0.5)"
   ]
  },
  {
   "cell_type": "code",
   "execution_count": null,
   "id": "7b6f55f3",
   "metadata": {},
   "outputs": [],
   "source": []
  }
 ],
 "metadata": {
  "kernelspec": {
   "display_name": "Python 3 (ipykernel)",
   "language": "python",
   "name": "python3"
  },
  "language_info": {
   "codemirror_mode": {
    "name": "ipython",
    "version": 3
   },
   "file_extension": ".py",
   "mimetype": "text/x-python",
   "name": "python",
   "nbconvert_exporter": "python",
   "pygments_lexer": "ipython3",
   "version": "3.8.11"
  }
 },
 "nbformat": 4,
 "nbformat_minor": 5
}
