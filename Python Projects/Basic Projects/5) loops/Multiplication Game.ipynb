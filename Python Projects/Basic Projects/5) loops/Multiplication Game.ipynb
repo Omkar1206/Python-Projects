{
 "cells": [
  {
   "cell_type": "code",
   "execution_count": 3,
   "id": "f424b8d4",
   "metadata": {},
   "outputs": [
    {
     "name": "stdout",
     "output_type": "stream",
     "text": [
      "Welcome to the world of Multiplication\n",
      "Please enter a number here:10\n",
      "10 x 1 = 10\n",
      "10 x 2 = 20\n",
      "10 x 3 = 30\n",
      "10 x 4 = 40\n",
      "10 x 5 = 50\n",
      "10 x 6 = 60\n",
      "10 x 7 = 70\n",
      "10 x 8 = 80\n",
      "10 x 9 = 90\n",
      "10 x 10 = 100\n"
     ]
    }
   ],
   "source": [
    "#Multiplication Game\n",
    "#Welcome User\n",
    "print('Welcome to the world of Multiplication')\n",
    "#Ask a number as input from user\n",
    "user_input=int(input('Please enter a number here:'))\n",
    "#User for loop to print the multiplication table\n",
    "for i in range(1,11):\n",
    "    print(user_input,'x',i,'=',i*user_input)"
   ]
  },
  {
   "cell_type": "code",
   "execution_count": null,
   "id": "7b6f55f3",
   "metadata": {},
   "outputs": [],
   "source": []
  }
 ],
 "metadata": {
  "kernelspec": {
   "display_name": "Python 3 (ipykernel)",
   "language": "python",
   "name": "python3"
  },
  "language_info": {
   "codemirror_mode": {
    "name": "ipython",
    "version": 3
   },
   "file_extension": ".py",
   "mimetype": "text/x-python",
   "name": "python",
   "nbconvert_exporter": "python",
   "pygments_lexer": "ipython3",
   "version": "3.8.11"
  }
 },
 "nbformat": 4,
 "nbformat_minor": 5
}
