{
 "cells": [
  {
   "cell_type": "code",
   "execution_count": 1,
   "id": "f4a36cd4",
   "metadata": {},
   "outputs": [
    {
     "name": "stdout",
     "output_type": "stream",
     "text": [
      "Welcome to the world of Fibonacci!\n",
      "Enter a num here:21\n",
      "0\n",
      "1\n",
      "1\n",
      "2\n",
      "3\n",
      "5\n",
      "8\n",
      "13\n",
      "21\n",
      "34\n",
      "55\n",
      "89\n",
      "144\n",
      "233\n",
      "377\n",
      "610\n",
      "987\n",
      "1597\n",
      "2584\n",
      "4181\n",
      "6765\n"
     ]
    }
   ],
   "source": [
    "#FIBONACCI GAME\n",
    "#Welcome user\n",
    "print('Welcome to the world of Fibonacci!')\n",
    "#ask a number as an input\n",
    "num=int(input('Enter a num here:'))\n",
    "\n",
    "n1=0\n",
    "n2=1\n",
    "#calcluate fibo numbers as per input\n",
    "for i in range(num):\n",
    "    print(n1)\n",
    "    n3=n1+n2\n",
    "    n1=n2\n",
    "    n2=n3\n"
   ]
  },
  {
   "cell_type": "code",
   "execution_count": null,
   "id": "20b3d1fc",
   "metadata": {},
   "outputs": [],
   "source": []
  }
 ],
 "metadata": {
  "kernelspec": {
   "display_name": "Python 3 (ipykernel)",
   "language": "python",
   "name": "python3"
  },
  "language_info": {
   "codemirror_mode": {
    "name": "ipython",
    "version": 3
   },
   "file_extension": ".py",
   "mimetype": "text/x-python",
   "name": "python",
   "nbconvert_exporter": "python",
   "pygments_lexer": "ipython3",
   "version": "3.8.11"
  }
 },
 "nbformat": 4,
 "nbformat_minor": 5
}
