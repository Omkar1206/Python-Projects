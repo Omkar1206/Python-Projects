{
 "cells": [
  {
   "cell_type": "code",
   "execution_count": 1,
   "id": "907eac76",
   "metadata": {},
   "outputs": [
    {
     "name": "stdout",
     "output_type": "stream",
     "text": [
      "Welcome to the world of Factorial!\n",
      "Enter a number here:32\n",
      "The factorial of 32 is 263130836933693530167218012160000000\n"
     ]
    }
   ],
   "source": [
    "#Factorial Game\n",
    "#Welcome user\n",
    "print('Welcome to the world of Factorial!')\n",
    "#take 1 number as input\n",
    "num=int(input('Enter a number here:'))\n",
    "\n",
    "factorial=1\n",
    "#calculate factorial using for loop\n",
    "for i in range(1,num+1):\n",
    "    factorial=(factorial*i)\n",
    "print('The factorial of',num,'is',factorial)"
   ]
  },
  {
   "cell_type": "code",
   "execution_count": null,
   "id": "83eb8e97",
   "metadata": {},
   "outputs": [],
   "source": []
  }
 ],
 "metadata": {
  "kernelspec": {
   "display_name": "Python 3 (ipykernel)",
   "language": "python",
   "name": "python3"
  },
  "language_info": {
   "codemirror_mode": {
    "name": "ipython",
    "version": 3
   },
   "file_extension": ".py",
   "mimetype": "text/x-python",
   "name": "python",
   "nbconvert_exporter": "python",
   "pygments_lexer": "ipython3",
   "version": "3.8.11"
  }
 },
 "nbformat": 4,
 "nbformat_minor": 5
}
