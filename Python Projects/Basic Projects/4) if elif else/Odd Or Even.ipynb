{
 "cells": [
  {
   "cell_type": "code",
   "execution_count": 3,
   "id": "f613e3e5",
   "metadata": {},
   "outputs": [
    {
     "name": "stdout",
     "output_type": "stream",
     "text": [
      "Welcome to the Odd or Even Game!\n",
      "Enter a number here:22\n",
      "22 is an even number!\n"
     ]
    }
   ],
   "source": [
    "#Odd or Even\n",
    "#Welcome User\n",
    "print(\"Welcome to the Odd or Even Game!\")\n",
    "\n",
    "#Ask for user input\n",
    "user_choice = int(input('Enter a number here:'))\n",
    "\n",
    "if user_choice%2==0:\n",
    "    print(user_choice,'is an even number!')\n",
    "else:\n",
    "    print(user_choice,'is an odd number!')"
   ]
  },
  {
   "cell_type": "code",
   "execution_count": null,
   "id": "46219b3d",
   "metadata": {},
   "outputs": [],
   "source": []
  }
 ],
 "metadata": {
  "kernelspec": {
   "display_name": "Python 3 (ipykernel)",
   "language": "python",
   "name": "python3"
  },
  "language_info": {
   "codemirror_mode": {
    "name": "ipython",
    "version": 3
   },
   "file_extension": ".py",
   "mimetype": "text/x-python",
   "name": "python",
   "nbconvert_exporter": "python",
   "pygments_lexer": "ipython3",
   "version": "3.8.11"
  }
 },
 "nbformat": 4,
 "nbformat_minor": 5
}
