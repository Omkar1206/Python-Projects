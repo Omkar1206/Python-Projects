{
 "cells": [
  {
   "cell_type": "code",
   "execution_count": 13,
   "id": "e41d7a89",
   "metadata": {},
   "outputs": [
    {
     "name": "stdout",
     "output_type": "stream",
     "text": [
      "Welcome to Stone-Paper-Scissors Game!\n",
      "Enter your choice: stone, paper, or scissorsstone\n",
      "You chose: stone\n",
      "Computer's choice: stone\n",
      "It's a tie!\n"
     ]
    }
   ],
   "source": [
    "import random\n",
    "choices = ['stone', 'paper', 'scissors']\n",
    "computer_choice = random.choice(choices)\n",
    "\n",
    "print(\"Welcome to Stone-Paper-Scissors Game!\")\n",
    "user_choice=input(\"Enter your choice: stone, paper, or scissors\")\n",
    "\n",
    "print('You chose:',user_choice.lower())\n",
    "print(\"Computer's choice:\", computer_choice)\n",
    "\n",
    "if user_choice not in choices:\n",
    "    print(\"Invalid choice!\")\n",
    "else:\n",
    "\n",
    "    if user_choice == computer_choice:\n",
    "        print(\"It's a tie!\")\n",
    "    elif (user_choice == 'stone' and computer_choice == 'scissors') or (user_choice == 'paper' and computer_choice == 'stone') or (user_choice == 'scissors' and computer_choice == 'paper'):\n",
    "        print(\"Congratulations! You win!\")\n",
    "    else:\n",
    "        print(\"Sorry! You lose!\")"
   ]
  },
  {
   "cell_type": "code",
   "execution_count": null,
   "id": "fb27c919",
   "metadata": {},
   "outputs": [],
   "source": []
  }
 ],
 "metadata": {
  "kernelspec": {
   "display_name": "Python 3 (ipykernel)",
   "language": "python",
   "name": "python3"
  },
  "language_info": {
   "codemirror_mode": {
    "name": "ipython",
    "version": 3
   },
   "file_extension": ".py",
   "mimetype": "text/x-python",
   "name": "python",
   "nbconvert_exporter": "python",
   "pygments_lexer": "ipython3",
   "version": "3.8.11"
  }
 },
 "nbformat": 4,
 "nbformat_minor": 5
}
