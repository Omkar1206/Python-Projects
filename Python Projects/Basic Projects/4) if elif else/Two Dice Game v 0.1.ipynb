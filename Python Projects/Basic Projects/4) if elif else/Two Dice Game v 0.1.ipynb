{
 "cells": [
  {
   "cell_type": "code",
   "execution_count": 13,
   "id": "de588fef",
   "metadata": {},
   "outputs": [
    {
     "name": "stdout",
     "output_type": "stream",
     "text": [
      "Welcome to Dice Game\n",
      "Please choose a number between 1-12:2\n",
      "You chose: 2\n",
      "Coin Toss Result: 10\n",
      "You Lose!\n"
     ]
    }
   ],
   "source": [
    "#Dice game\n",
    "#welcome user\n",
    "print('Welcome to Dice Game')\n",
    "#user input\n",
    "user_input=int(input('Please choose a number between 1-12:'))\n",
    "#display input\n",
    "print('You chose:',user_input)\n",
    "#dice toss\n",
    "import random\n",
    "dice_toss=random.randrange(1,13)\n",
    "#dice result display\n",
    "print('Coin Toss Result:',dice_toss)\n",
    "#if user input and dice toss matches--> you win\n",
    "if user_input==dice_toss:\n",
    "    print('You Win!')\n",
    "#else --> you lose\n",
    "else:\n",
    "    print('You Lose!')"
   ]
  },
  {
   "cell_type": "code",
   "execution_count": null,
   "id": "35e5038d",
   "metadata": {},
   "outputs": [],
   "source": []
  }
 ],
 "metadata": {
  "kernelspec": {
   "display_name": "Python 3 (ipykernel)",
   "language": "python",
   "name": "python3"
  },
  "language_info": {
   "codemirror_mode": {
    "name": "ipython",
    "version": 3
   },
   "file_extension": ".py",
   "mimetype": "text/x-python",
   "name": "python",
   "nbconvert_exporter": "python",
   "pygments_lexer": "ipython3",
   "version": "3.8.11"
  }
 },
 "nbformat": 4,
 "nbformat_minor": 5
}
