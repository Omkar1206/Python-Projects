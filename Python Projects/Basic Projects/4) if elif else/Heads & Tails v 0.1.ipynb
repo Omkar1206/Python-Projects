{
 "cells": [
  {
   "cell_type": "code",
   "execution_count": 1,
   "id": "9efff7d1",
   "metadata": {},
   "outputs": [
    {
     "name": "stdout",
     "output_type": "stream",
     "text": [
      "Welcome to Heads & Tails Game\n",
      "Please choose Heads or Tails:heads\n",
      "You chose: Heads\n",
      "Coin Toss Result: Heads\n",
      "You Win!\n"
     ]
    }
   ],
   "source": [
    "#heads and tails game\n",
    "#welcome user\n",
    "print('Welcome to Heads & Tails Game')\n",
    "#user input\n",
    "user_input=input('Please choose Heads or Tails:')\n",
    "#display input\n",
    "print('You chose:',user_input.title())\n",
    "#coin toss\n",
    "import random\n",
    "if random.choice('ab')=='b':\n",
    "    coin_toss='Heads'\n",
    "else:\n",
    "    coin_toss='Tails'\n",
    "#coin result display\n",
    "print('Coin Toss Result:',coin_toss)\n",
    "#if user input and coin toss matches--> you win\n",
    "if user_input.lower()==coin_toss.lower():\n",
    "    print('You Win!')\n",
    "#else --> you lose\n",
    "else:\n",
    "    print('You Lose!')"
   ]
  },
  {
   "cell_type": "code",
   "execution_count": null,
   "id": "d599a614",
   "metadata": {},
   "outputs": [],
   "source": []
  }
 ],
 "metadata": {
  "kernelspec": {
   "display_name": "Python 3 (ipykernel)",
   "language": "python",
   "name": "python3"
  },
  "language_info": {
   "codemirror_mode": {
    "name": "ipython",
    "version": 3
   },
   "file_extension": ".py",
   "mimetype": "text/x-python",
   "name": "python",
   "nbconvert_exporter": "python",
   "pygments_lexer": "ipython3",
   "version": "3.8.11"
  }
 },
 "nbformat": 4,
 "nbformat_minor": 5
}
