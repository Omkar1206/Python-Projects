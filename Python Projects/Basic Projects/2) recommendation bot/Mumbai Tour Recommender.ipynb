{
 "cells": [
  {
   "cell_type": "code",
   "execution_count": 1,
   "id": "d7d33e67",
   "metadata": {},
   "outputs": [
    {
     "name": "stdout",
     "output_type": "stream",
     "text": [
      "Welcome to Mumbai | The City of Dreams!\n",
      "Enter your name: omkar\n",
      "Hello, omkar !\n",
      "Enter your budget (in INR): 3292\n",
      "Here are some recommendations for experiencing Mumbai based on your budget:\n",
      "You can go on a Sunset Cruise at Gateway of India.\n",
      "******************************\n"
     ]
    }
   ],
   "source": [
    "# MUMBAI EXPERIENCE RECOMMENDER\n",
    "# Welcome to Mumbai\n",
    "print('Welcome to Mumbai | The City of Dreams!')\n",
    "\n",
    "# Ask for the user's name\n",
    "user_name = input('Enter your name: ')\n",
    "\n",
    "# Greet the user\n",
    "print('Hello,', user_name, '!')\n",
    "\n",
    "# Ask for the user's budget\n",
    "budget = int(input('Enter your budget (in INR): '))\n",
    "\n",
    "# Recommend experiences based on budget\n",
    "print('Here are some recommendations for experiencing Mumbai based on your budget:')\n",
    "\n",
    "# > 5000: Private Bollywood Studio Tour\n",
    "if budget >= 5000:\n",
    "    print('You can enjoy a Private Bollywood Studio Tour.')\n",
    "\n",
    "# 2500-5000: Sunset Cruise at Gateway of India\n",
    "elif budget >= 2500:\n",
    "    print('You can go on a Sunset Cruise at Gateway of India.')\n",
    "\n",
    "# 1000-2500: Street Food Tour in Colaba\n",
    "elif budget >= 1000:\n",
    "    print('You can take a Street Food Tour in Colaba.')\n",
    "\n",
    "# 500-1000: Elephanta Caves Excursion\n",
    "elif budget >= 500:\n",
    "    print('You can visit the Elephanta Caves.')\n",
    "\n",
    "# 100-500: Explore Bandra's Graffiti Art\n",
    "elif budget >= 100:\n",
    "    print('You can explore Bandra\\'s Graffiti Art.')\n",
    "\n",
    "# 10-100: Enjoy Chai at Iconic Irani Cafes\n",
    "elif budget >= 10:\n",
    "    print('You can enjoy Chai at Iconic Irani Cafes.')\n",
    "\n",
    "# Below 10: Enjoy a Beach Day at Juhu Beach\n",
    "else:\n",
    "    print(\"You can enjoy a Beach Day at Juhu Beach.\")\n",
    "\n",
    "print('*' * 30)\n"
   ]
  },
  {
   "cell_type": "code",
   "execution_count": null,
   "id": "62749526",
   "metadata": {},
   "outputs": [],
   "source": []
  }
 ],
 "metadata": {
  "kernelspec": {
   "display_name": "Python 3 (ipykernel)",
   "language": "python",
   "name": "python3"
  },
  "language_info": {
   "codemirror_mode": {
    "name": "ipython",
    "version": 3
   },
   "file_extension": ".py",
   "mimetype": "text/x-python",
   "name": "python",
   "nbconvert_exporter": "python",
   "pygments_lexer": "ipython3",
   "version": "3.8.11"
  }
 },
 "nbformat": 4,
 "nbformat_minor": 5
}
