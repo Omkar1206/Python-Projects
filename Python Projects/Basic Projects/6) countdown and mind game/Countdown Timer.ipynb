{
 "cells": [
  {
   "cell_type": "markdown",
   "id": "406e7dcf",
   "metadata": {},
   "source": [
    "# Without library"
   ]
  },
  {
   "cell_type": "code",
   "execution_count": null,
   "id": "27b7b87a",
   "metadata": {},
   "outputs": [
    {
     "name": "stdout",
     "output_type": "stream",
     "text": [
      "01:06\r"
     ]
    }
   ],
   "source": [
    "import time\n",
    "\n",
    "def countdown(mins, secs=0):\n",
    "    t = (mins*60) + secs\n",
    "    while t:\n",
    "        mins, secs = divmod(t, 60)\n",
    "        timer = '{:02d}:{:02d}'.format(mins, secs)\n",
    "        print(timer, end=\"\\r\")\n",
    "        time.sleep(1)\n",
    "        t -= 1\n",
    "countdown(1,10)"
   ]
  },
  {
   "cell_type": "markdown",
   "id": "683e50a1",
   "metadata": {},
   "source": [
    "# With Library"
   ]
  },
  {
   "cell_type": "code",
   "execution_count": 1,
   "id": "3d4e7d0e",
   "metadata": {},
   "outputs": [
    {
     "name": "stdout",
     "output_type": "stream",
     "text": [
      "Requirement already satisfied: countdown-timer in c:\\users\\admin\\anaconda3\\lib\\site-packages (0.0.3)\n"
     ]
    }
   ],
   "source": [
    "!pip install countdown-timer"
   ]
  },
  {
   "cell_type": "code",
   "execution_count": null,
   "id": "889236f0",
   "metadata": {},
   "outputs": [
    {
     "name": "stdout",
     "output_type": "stream",
     "text": [
      "01:06\r"
     ]
    }
   ],
   "source": [
    "from countdown import countdown\n",
    "countdown(1,10)"
   ]
  },
  {
   "cell_type": "code",
   "execution_count": null,
   "id": "1eb8da9f",
   "metadata": {},
   "outputs": [],
   "source": []
  }
 ],
 "metadata": {
  "kernelspec": {
   "display_name": "Python 3 (ipykernel)",
   "language": "python",
   "name": "python3"
  },
  "language_info": {
   "codemirror_mode": {
    "name": "ipython",
    "version": 3
   },
   "file_extension": ".py",
   "mimetype": "text/x-python",
   "name": "python",
   "nbconvert_exporter": "python",
   "pygments_lexer": "ipython3",
   "version": "3.8.11"
  }
 },
 "nbformat": 4,
 "nbformat_minor": 5
}
