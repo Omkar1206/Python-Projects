{
 "cells": [
  {
   "cell_type": "code",
   "execution_count": null,
   "id": "a3e29109",
   "metadata": {},
   "outputs": [],
   "source": [
    "#MIND GAME\n",
    "#import time library\n",
    "import time \n",
    "#ask user to guess a number\n",
    "print('Guess a number between 1-5000')\n",
    "#give some time to user\n",
    "time.sleep(3)\n",
    "#ask user to multiply it by 2 \n",
    "print('Now Double the number you have guessed')\n",
    "time.sleep(3)\n",
    "#ask user to add 50 in it\n",
    "print('Now add 50 in it')\n",
    "time.sleep(3)\n",
    "#ask user to divide it by 2\n",
    "print('Now divide the number by 2')\n",
    "time.sleep(4)\n",
    "#ask user to subtract the guessed number\n",
    "print('Alright now subtract the number you have guessed')\n",
    "time.sleep(3)\n",
    "print('Ok I am guessing....')\n",
    "time.sleep(2)\n",
    "print('The number might be....')\n",
    "time.sleep(2)\n",
    "#give the answer\n",
    "print(f'You have 25 in your mind right now! Gotcha')"
   ]
  }
 ],
 "metadata": {
  "kernelspec": {
   "display_name": "Python 3 (ipykernel)",
   "language": "python",
   "name": "python3"
  },
  "language_info": {
   "codemirror_mode": {
    "name": "ipython",
    "version": 3
   },
   "file_extension": ".py",
   "mimetype": "text/x-python",
   "name": "python",
   "nbconvert_exporter": "python",
   "pygments_lexer": "ipython3",
   "version": "3.8.11"
  }
 },
 "nbformat": 4,
 "nbformat_minor": 5
}
