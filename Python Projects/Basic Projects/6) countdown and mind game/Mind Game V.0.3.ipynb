{
 "cells": [
  {
   "cell_type": "code",
   "execution_count": 1,
   "id": "7a56e05a",
   "metadata": {},
   "outputs": [
    {
     "name": "stdout",
     "output_type": "stream",
     "text": [
      "Guess a number between 1-5000\n",
      "Now Double the number you have guessed\n",
      "Now add32in it\n",
      "Now add47in it\n",
      "Now add98in it\n",
      "Now add9in it\n",
      "Now divide the number by 2\n",
      "Alright now subtract the number you have guessed\n",
      "Ok I am guessing....\n",
      "The number might be....\n",
      "You have 93.0 in your mind right now! Gotcha\n"
     ]
    }
   ],
   "source": [
    "#MIND GAME\n",
    "#import time library\n",
    "import time \n",
    "#ask user to guess a number\n",
    "print('Guess a number between 1-5000')\n",
    "#give some time to user\n",
    "time.sleep(3)\n",
    "#ask user to multiply it by 2 \n",
    "print('Now Double the number you have guessed')\n",
    "time.sleep(3)\n",
    "#ask user to add a random in it\n",
    "import random\n",
    "final_num=0\n",
    "for i in range(4):\n",
    "    random_number=(random.randrange(1,101))\n",
    "    print('Now add '+str(random_number)+' in it')\n",
    "    final_num=final_num+random_number\n",
    "    time.sleep(3)\n",
    "#ask user to divide it by 2\n",
    "print('Now divide the number by 2')\n",
    "time.sleep(4)\n",
    "#ask user to subtract the guessed number\n",
    "print('Alright now subtract the number you have guessed')\n",
    "time.sleep(3)\n",
    "print('Ok I am guessing....')\n",
    "time.sleep(2)\n",
    "print('The number might be....')\n",
    "time.sleep(2)\n",
    "#give the answer\n",
    "print(f'You have {final_num/2} in your mind right now! Gotcha')"
   ]
  },
  {
   "cell_type": "code",
   "execution_count": null,
   "id": "c0762bcf",
   "metadata": {},
   "outputs": [],
   "source": []
  }
 ],
 "metadata": {
  "kernelspec": {
   "display_name": "Python 3 (ipykernel)",
   "language": "python",
   "name": "python3"
  },
  "language_info": {
   "codemirror_mode": {
    "name": "ipython",
    "version": 3
   },
   "file_extension": ".py",
   "mimetype": "text/x-python",
   "name": "python",
   "nbconvert_exporter": "python",
   "pygments_lexer": "ipython3",
   "version": "3.8.11"
  }
 },
 "nbformat": 4,
 "nbformat_minor": 5
}
