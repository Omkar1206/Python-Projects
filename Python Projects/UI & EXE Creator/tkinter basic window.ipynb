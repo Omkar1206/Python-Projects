{
 "cells": [
  {
   "cell_type": "code",
   "execution_count": 23,
   "id": "c16fc4fd",
   "metadata": {},
   "outputs": [],
   "source": [
    "def simple_function():\n",
    "    print('Hello World')\n",
    "import tkinter as tk\n",
    "\n",
    "#main window\n",
    "window=tk.Tk()\n",
    "\n",
    "#size\n",
    "window.geometry('500x500')\n",
    "\n",
    "#title\n",
    "window.title('Omkar Python Projects')\n",
    "\n",
    "#label\n",
    "tk.Label(window,text='PYTHON PROJECTS',font=('Helvetica',16)).place(x=150,y=30)\n",
    "\n",
    "tk.Label(window,text='Made By: Omkar',font=('Helvetica',12)).place(x=190,y=80)\n",
    "\n",
    "tk.Button(window,text='Heads & Tails',command=simple_function,width=20).place(x=170,y=180)\n",
    "\n",
    "\n",
    "#main loop\n",
    "window.mainloop()"
   ]
  },
  {
   "cell_type": "code",
   "execution_count": null,
   "id": "878deced",
   "metadata": {},
   "outputs": [],
   "source": []
  }
 ],
 "metadata": {
  "kernelspec": {
   "display_name": "Python 3 (ipykernel)",
   "language": "python",
   "name": "python3"
  },
  "language_info": {
   "codemirror_mode": {
    "name": "ipython",
    "version": 3
   },
   "file_extension": ".py",
   "mimetype": "text/x-python",
   "name": "python",
   "nbconvert_exporter": "python",
   "pygments_lexer": "ipython3",
   "version": "3.8.11"
  }
 },
 "nbformat": 4,
 "nbformat_minor": 5
}
